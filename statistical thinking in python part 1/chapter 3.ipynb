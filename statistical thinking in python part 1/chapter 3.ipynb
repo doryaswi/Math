{
 "cells": [
  {
   "cell_type": "code",
   "execution_count": 48,
   "metadata": {},
   "outputs": [],
   "source": [
    "#getting set up importing modules and esablishing needed data\n",
    "import numpy as np\n",
    "import matplotlib.pyplot as plt\n",
    "import seaborn as sns\n",
    "# defining needed functions\n",
    "def ecdf(data):\n",
    "    \"\"\"Compute ECDF for a one-dimensional array of measurements.\"\"\"\n",
    "    # Number of data points: n\n",
    "    n = len(data)\n",
    "\n",
    "    # x-data for the ECDF: x\n",
    "    x = np.sort(data)\n",
    "\n",
    "    # y-data for the ECDF: y\n",
    "    y = np.arange(1, n+1) / n\n",
    "\n",
    "    return x, y\n",
    "\n",
    "\n"
   ]
  },
  {
   "cell_type": "markdown",
   "metadata": {},
   "source": [
    "# exercise 1\n",
    "Generating random numbers using the `np.random module`\n",
    "We will be hammering the `np.random` module for the rest of this course and its sequel. Actually, you will probably call functions from this module more than any other while wearing your hacker statistician hat. Let's start by taking its simplest function, `np.random.random()` for a test spin. The function returns a random number between zero and one. Call `np.random.random()` a few times in the IPython shell. You should see numbers jumping around between zero and one.\n",
    "\n",
    "In this exercise, we'll generate lots of random numbers between zero and one, and then plot a histogram of the results. If the numbers are truly random, all bars in the histogram should be of (close to) equal height.\n",
    "\n",
    "You may have noticed that, in the video, Justin generated 4 random numbers by passing the keyword argument $size=4$ to `np.random.random()`. Such an approach is more efficient than a for loop: in this exercise, however, you will write a for loop to experience hacker statistics as the practice of repeating an experiment over and over again.\n",
    "\n",
    "- Seed the random number generator using the seed `42`.\n",
    "\n",
    "- Initialize an empty array, random_numbers, of 100,000 entries to store the random numbers. Make sure you use `np.empty(100000)` to do this.\n",
    "\n",
    "- Write a `for` loop to draw 100,000 random numbers using `np.random.random()`, storing them in the `random_numbers array`. To do so, loop over `range(100000)`.\n",
    "\n",
    "- Plot a histogram of `random_numbers`. It is not necessary to label the axes in this case because we are just checking the random number generator. Hit 'Submit Answer' to show your plot."
   ]
  },
  {
   "cell_type": "code",
   "execution_count": 2,
   "metadata": {},
   "outputs": [
    {
     "data": {
      "image/png": "[encoded data removed]",
      "text/plain": [
       "<Figure size 432x288 with 1 Axes>"
      ]
     },
     "metadata": {
      "needs_background": "light"
     },
     "output_type": "display_data"
    }
   ],
   "source": [
    "# set the seed\n",
    "np.random.seed(42)\n",
    "\n",
    "#initialize empty array\n",
    "random_numbers = np.empty(100000)\n",
    "\n",
    "#generating random numbers with a for loop\n",
    "for i in range(100000):\n",
    "    random_numbers[i]=np.random.random()\n",
    "# plot hist   \n",
    "_= plt.hist(random_numbers)"
   ]
  },
  {
   "cell_type": "markdown",
   "metadata": {},
   "source": [
    "# Exersize 2\n",
    "**The np.random module and Bernoulli trials**   \n",
    "You can think of a Bernoulli trial as a flip of a possibly biased coin. Specifically, each coin flip has a probability $p$ of landing heads (success) and probability $1−p$ of landing tails (failure). In this exercise, you will write a function to perform n Bernoulli trials, perform_bernoulli_trials(n, p), which returns the number of successes out of `n` Bernoulli trials, each of which has probability `p` of success. To perform each Bernoulli trial, use the `np.random.random()` function, which returns a random number between zero and one.\n",
    "\n",
    "*Instructions:*\n",
    "\n",
    "- Define a function with signature `perform_bernoulli_trials(n, p)`.\n",
    "\n",
    "- Initialize to zero a variable n_success the counter of Trues, which are Bernoulli trial successes.\n",
    "\n",
    "- Write a `for` loop where you perform a Bernoulli trial in each iteration and increment the number of success if the result is `True`. Perform `n` iterations by looping over `range(n)`.\n",
    "\n",
    "- To perform a Bernoulli trial, choose a random number between zero and one using np.random.random(). If the number you chose is less than `p`, increment `n_success` (use the `+= 1` operator to achieve this).\n",
    "\n",
    "- The function returns the number of successes `n_success`."
   ]
  },
  {
   "cell_type": "code",
   "execution_count": 3,
   "metadata": {},
   "outputs": [],
   "source": [
    "def perform_bernoulli_trials(n, p):\n",
    "    \"\"\"Perform n Bernoulli trials with success probability p\n",
    "    and return number of successes.\"\"\"\n",
    "    # Initialize number of successes: n_success\n",
    "    n_success = 0\n",
    "    # Perform trials\n",
    "    for i in range(n):\n",
    "        # Choose random number between zero and one: random_number\n",
    "        random_number = np.random.random()\n",
    "        # If less than p, it's a success so add one to n_success\n",
    "        \n",
    "        if random_number < p:\n",
    "            n_success += 1\n",
    "            \n",
    "    return n_success"
   ]
  },
  {
   "cell_type": "markdown",
   "metadata": {},
   "source": [
    "# Exercise 3\n",
    "**How many defaults might we expect?**  \n",
    "Let's say a bank made 100 mortgage loans. It is possible that anywhere between 0 and 100 of the loans will be defaulted upon. You would like to know the probability of getting a given number of defaults, given that the probability of a default is `p = 0.05`. To investigate this, you will do a simulation. You will perform 100 Bernoulli trials using the `perform_bernoulli_trials()` function you wrote in the previous exercise and record how many defaults we get. Here, a success is a default. (Remember that the word \"success\" just means that the Bernoulli trial evaluates to `True`, i.e., did the loan recipient default?) You will do this for another 100 Bernoulli trials. And again and again until we have tried it 1000 times. Then, you will plot a histogram describing the probability of the number of defaults.\n",
    "\n",
    "**Instructions**\n",
    "\n",
    "- Seed the random number generator to 42.\n",
    "\n",
    "- Initialize `n_defaults`, an empty array, using `np.empty()`. It should contain 1000 entries, since we are doing 1000 simulations.\n",
    "\n",
    "- Write a `for` loop with `1000` iterations to compute the number of defaults per 100 loans using the `perform_bernoulli_trials()` function. It accepts two arguments: the number of trials `n` - in this case 100 - and the probability of success `p` - in this case the probability of a default, which is `0.05`. On each iteration of the loop store the result in an entry of `n_defaults`.\n",
    "\n",
    "- Plot a histogram of `n_defaults`. Include the `normed=True` keyword argument so that the height of the bars of the histogram indicate the probability.\n",
    "."
   ]
  },
  {
   "cell_type": "code",
   "execution_count": 10,
   "metadata": {},
   "outputs": [
    {
     "data": {
      "image/png": "[encoded data removed]",
      "text/plain": [
       "<Figure size 432x288 with 1 Axes>"
      ]
     },
     "metadata": {
      "needs_background": "light"
     },
     "output_type": "display_data"
    }
   ],
   "source": [
    "# set seed\n",
    "np.random.seed(42)\n",
    "\n",
    "#initialze defaults f\n",
    "n_defaults = np.empty(1000)\n",
    "\n",
    "for i in range (1000):\n",
    "    n_defaults[i] = perform_bernoulli_trials(100, 0.05)\n",
    "\n",
    "# normed changed to density as per library recemdnation     \n",
    "_=plt.hist(n_defaults, density=True)\n",
    "_ = plt.xlabel('number of defaults out of 100 loans')\n",
    "_ = plt.ylabel('probability')"
   ]
  },
  {
   "cell_type": "markdown",
   "metadata": {},
   "source": [
    "# Exercise 4 \n",
    "**Will the bank fail?**  \n",
    "Plot the number of defaults you got from the previous exercise, in your namespace as `n_defaults`, as a CDF. The ecdf() function you wrote in the first chapter is available.\n",
    "\n",
    "If interest rates are such that the bank will lose money if 10 or more of its loans are defaulted upon, what is the probability that the bank will lose money?\n",
    "\n",
    "**Instructions**  \n",
    "\n",
    "- Compute the `x` and `y` values for the ECDF of `n_defaults`.\n",
    "\n",
    "- Plot the ECDF, making sure to label the axes. Remember to include `marker = '.'` and `linestyle = 'none'` in addition to `x` and `y` in your call `plt.plot()`.\n",
    "- Compute the total number of entries in your `n_defaults` array that were greater than or equal to 10. To do so, compute a boolean array that tells you whether a given entry of `n_defaults` is `>= 10`. Then sum all the entries in this array using `np.sum()`. For example, `np.sum(n_defaults <= 5)` would compute the number of defaults with 5 or fewer defaults.\n",
    "\n",
    "- The probability that the bank loses money is the fraction of `n_defaults` that are greater than or equal to 10. Print this result\n"
   ]
  },
  {
   "cell_type": "code",
   "execution_count": 24,
   "metadata": {},
   "outputs": [
    {
     "data": {
      "image/png": "[encoded data removed]",
      "text/plain": [
       "<Figure size 432x288 with 1 Axes>"
      ]
     },
     "metadata": {
      "needs_background": "light"
     },
     "output_type": "display_data"
    },
    {
     "name": "stdout",
     "output_type": "stream",
     "text": [
      "Probability of losing money = 0.022\n"
     ]
    }
   ],
   "source": [
    "#compute ecdf\n",
    "\n",
    "x,y = ecdf(n_defaults)\n",
    "\n",
    "# plot ecdf\n",
    "_ = plt.plot(x,y,marker ='.',linestyle = 'none')\n",
    "_ = plt.xlabel('number of defaults')\n",
    "_ = plt.ylabel('ecdf')\n",
    "_= plt.show()\n",
    "# compute the total number of  100 loan simulations with 10 or more defaults \n",
    "n_lose_money = np.sum(n_defaults>=10)\n",
    "\n",
    "#print the prob of losing money\n",
    "print(f'Probability of losing money = {(n_lose_money/len(n_defaults))}')"
   ]
  },
  {
   "cell_type": "markdown",
   "metadata": {},
   "source": [
    "# lecture\n",
    "\n",
    "** Probability mass function (PMF)**\n",
    "- the set of probabilities of discrete outcomes\n",
    "- property of a probability distribution\n",
    "\n",
    "** Probability distribution** \n",
    "- A mathematical description of outcomes\n",
    "- a mathematical \"story\" that can be matched to a PMF\n",
    "\n",
    "** Binomial distribution: **\n",
    "- the number $r$ of successes in $n$ Bernoulli trials with probability $p$ of success, is Binomially distributed\n",
    "\n",
    "- the number $r$ _of heads_ in _4 coin flips_ with probability _0.5_ of _heads_, is Binomially distributed"
   ]
  },
  {
   "cell_type": "code",
   "execution_count": 60,
   "metadata": {},
   "outputs": [
    {
     "data": {
      "image/png": "[encoded data removed]",
      "text/plain": [
       "<Figure size 432x288 with 1 Axes>"
      ]
     },
     "metadata": {},
     "output_type": "display_data"
    }
   ],
   "source": [
    "#samples\n",
    "samples = np.random.binomial(60 ,0.1, size = 10000) \n",
    "# needs to be changes to prob\n",
    "bins = np.arange(0, max(n_defaults)+ 1.5) - 0.5\n",
    "#plot\n",
    "_ = plt.hist(samples,bins=bins, density = True, label=['n =60 \\np =.01'] )\n",
    "_ = plt.legend()\n"
   ]
  },
  {
   "cell_type": "code",
   "execution_count": 50,
   "metadata": {},
   "outputs": [
    {
     "data": {
      "image/png": "[encoded data removed]",
      "text/plain": [
       "<Figure size 432x288 with 1 Axes>"
      ]
     },
     "metadata": {},
     "output_type": "display_data"
    }
   ],
   "source": [
    "sns.set()\n",
    "x,y = ecdf(samples)\n",
    "_ = plt.plot(x,y,marker ='.',linestyle='none')\n",
    "_ = plt.xlabel('number of success')\n",
    "_ = plt.ylabel('CDF')"
   ]
  },
  {
   "cell_type": "markdown",
   "metadata": {},
   "source": [
    "# exercise 5\n",
    "**Sampling out of the Binomial distribution**\n",
    "\n",
    "Compute the probability mass function for the number of defaults we would expect for 100 loans as in the last section, but instead of simulating all of the Bernoulli trials, perform the sampling using `np.random.binomial()`. This is identical to the calculation you did in the last set of exercises using your custom-written `perform_bernoulli_trials()` function, but far more computationally efficient. Given this extra efficiency, we will take 10,000 samples instead of 1000. After taking the samples, plot the CDF as last time. This CDF that you are plotting is that of the Binomial distribution.\n",
    "\n",
    "\n",
    "\n",
    "**Instructions**\n",
    "\n",
    "- set seed to 42 np.random.seed(42)\n",
    "\n",
    "- Draw samples out of the Binomial distribution using `np.random.binomial()`. You should use parameters `n = 100` and `p = 0.05`, and set the `size` keyword argument to `10000`.\n",
    "\n",
    "- Compute the CDF using your previously-written `ecdf()` function.\n",
    "\n",
    "- Plot the CDF with axis labels. The x-axis here is the number of defaults out of 100 loans, while the y-axis is the CDF.\n"
   ]
  },
  {
   "cell_type": "code",
   "execution_count": 51,
   "metadata": {},
   "outputs": [
    {
     "data": {
      "image/png": "[encoded data removed]",
      "text/plain": [
       "<Figure size 432x288 with 1 Axes>"
      ]
     },
     "metadata": {},
     "output_type": "display_data"
    }
   ],
   "source": [
    "# set seed\n",
    "np.random.seed(42)\n",
    "\n",
    "#draw samples \n",
    "n_defaults = np.random.binomial(n = 100, p=0.05, size = 10000)\n",
    "\n",
    "#compute the cdf using ecdf fucntion\n",
    "x,y = ecdf(n_defaults)\n",
    "\n",
    "#plot cdf\n",
    "_= plt.plot(x,y,marker ='.', linestyle='none')\n",
    "_= plt.xlabel('number of defaults')\n",
    "_=plt.ylabel('cdf')\n"
   ]
  },
  {
   "cell_type": "markdown",
   "metadata": {},
   "source": [
    "# exercise 6 \n",
    "**Plotting the Binomial PMF**\n",
    "As mentioned in the video, plotting a nice looking PMF requires a bit of matplotlib trickery that we will not go into here. Instead, we will plot the PMF of the Binomial distribution as a histogram with skills you have already learned. The trick is setting up the edges of the bins to pass to `plt.hist()` via the `bins` keyword argument. We want the bins centered on the integers. So, the edges of the bins should be `-0.5, 0.5, 1.5, 2.5, ...` up to `max(n_defaults) + 1.5`. You can generate an array like this using `np.arange()` and then subtracting 0.5 from the array.\n",
    "\n",
    "You have already sampled out of the Binomial distribution during your exercises on loan defaults, and the resulting samples are in the NumPy array n_defaults.\n",
    "\n",
    "**Instructions**\n",
    "\n",
    "- Using `np.arange()`, compute the bin edges such that the bins are centered on the integers. Store the resulting array in the variable `bins`.\n",
    "\n",
    "- Use `plt.hist()` to plot the histogram of `n_defaults` with the `normed=True` and `bins=bins` keyword arguments.\n",
    "\n"
   ]
  },
  {
   "cell_type": "code",
   "execution_count": 62,
   "metadata": {},
   "outputs": [
    {
     "data": {
      "image/png": "[encoded data removed]",
      "text/plain": [
       "<Figure size 432x288 with 1 Axes>"
      ]
     },
     "metadata": {},
     "output_type": "display_data"
    }
   ],
   "source": [
    "# Compute bin edges: bins\n",
    "bins = np.arange(0, max(n_defaults)+ 1.5) - 0.5\n",
    "\n",
    "# Generate histogram and label axes\n",
    "_= plt.hist(n_defaults,bins=bins,density=True)\n",
    "_= plt.xlabel('number of defaults')\n",
    "_= plt.ylabel('percent')"
   ]
  },
  {
   "cell_type": "markdown",
   "metadata": {},
   "source": [
    "# lecture\n",
    "**Poisson processes and the Poisson distribution**\n",
    "\n",
    "**Poisson process**\n",
    "- the timing of the next event is completly independent of when the previous event hapened\n",
    "\n",
    "**examples**\n",
    "- Natural births in a given hospital\n",
    "- Hit on a website during a given hour\n",
    "- Meteor strikes ect\n",
    "\n",
    "**Poisson distribution**\n",
    "- the number of $r$ arrivals of a Poisson process in a given time interval with average rate of $\\lambda$ arrivals per interval is Poisson distributed.\n",
    "\n",
    "- the number $r$ of _hits on a website_ in _one hour_ with an average hit rate of _6 hits per hour_ is Poisson distributed\n",
    "\n",
    "- Limit of the Binomial distribution for low probability of success and large number of trials\n",
    "    - rare events"
   ]
  },
  {
   "cell_type": "code",
   "execution_count": 67,
   "metadata": {},
   "outputs": [
    {
     "data": {
      "image/png": "[encoded data removed]",
      "text/plain": [
       "<Figure size 432x288 with 1 Axes>"
      ]
     },
     "metadata": {},
     "output_type": "display_data"
    }
   ],
   "source": [
    "samples_poissonsamples  = np.random.poisson(6,size = 10000)\n",
    "x,y = ecdf(samples)\n",
    "_ = plt.plot(x,y,marker = '.', linestyle ='none')\n",
    "plt.margins(0.02)\n",
    "_ = plt.xlabel('number of succeses')\n",
    "_ = plt.ylabel('CDF')"
   ]
  },
  {
   "cell_type": "markdown",
   "metadata": {},
   "source": [
    "# exercise 7 \n",
    "**Relationship between Binomial and Poisson distributions**\n",
    "\n",
    "You just heard that the Poisson distribution is a limit of the Binomial distribution for rare events. This makes sense if you think about the stories. Say we do a Bernoulli trial every minute for an hour, each with a success probability of 0.1. We would do 60 trials, and the number of successes is Binomially distributed, and we would expect to get about 6 successes. This is just like the Poisson story we discussed in the video, where we get on average 6 hits on a website per hour. So, the Poisson distribution with arrival rate equal to np approximates a Binomial distribution for n Bernoulli trials with probability p of success (with n large and p small). Importantly, the Poisson distribution is often simpler to work with because it has only one parameter instead of two for the Binomial distribution.\n",
    "\n",
    "Let's explore these two distributions computationally. You will compute the mean and standard deviation of samples from a Poisson distribution with an arrival rate of 10. Then, you will compute the mean and standard deviation of samples from a Binomial distribution with parameters $n$ and $p$ such that $np=10$.\n",
    "\n",
    "**Instructions** \n",
    "\n",
    "- Using the np.random.poisson() function, draw 10000 samples from a Poisson distribution with a mean of 10.\n",
    "\n",
    "- Print the mean and standard deviation using ` np.mean()` and `np.std()`\n",
    "\n",
    "- Make a list of the n and p values to consider for the Binomial distribution. Choose n = [20, 100, 1000] and p = [0.5, 0.1, 0.01] so that np is always 10.\n",
    "\n",
    "- Using np.random.binomial() inside a for loop in `range(3)`, draw 10000 samples from a Binomial distribution with each n, p pair and print the mean and standard deviation of the samples. There are 3 n, p pairs: 20, 0.5, 100, 0.1, and 1000, 0.01. These can be accessed inside the loop as n[i], p[i]."
   ]
  },
  {
   "cell_type": "code",
   "execution_count": null,
   "metadata": {},
   "outputs": [],
   "source": [
    "samples_poisson\n",
    "\n",
    "## some code here"
   ]
  },
  {
   "cell_type": "markdown",
   "metadata": {},
   "source": [
    "# exercise 8 \n",
    "**Was 2015 anomalous?**  \n",
    "1990 and 2015 featured the most no-hitters of any season of baseball (there were seven). Given that there are on average 251/115 no-hitters per season, what is the probability of having seven or more in a season?\n",
    "\n",
    "**Instructions:**\n",
    "\n",
    "- Draw `10000` samples from a Poisson distribution with a mean of `251/115` and assign to `n_nohitters`.\n",
    "\n",
    "- Determine how many of your samples had a result greater than or equal to 7 and assign to `n_large`.\n",
    "\n",
    "- Compute the probability, `p_large`, of having 7 or more no-hitters by dividing `n_large` by the total number of samples (`10000`).\n",
    "\n",
    "- print the probability that you calculated."
   ]
  },
  {
   "cell_type": "code",
   "execution_count": 68,
   "metadata": {},
   "outputs": [
    {
     "name": "stdout",
     "output_type": "stream",
     "text": [
      "Probability of seven or more no-hitters: 0.007\n"
     ]
    }
   ],
   "source": [
    "# draw samples \n",
    "n_nohitters = np.random.poisson(251/115,size = 10000)\n",
    "\n",
    "# number of samples that are seven or greater\n",
    "n_large = np.sum(n_nohitters>6 )\n",
    "\n",
    "# probability of getting seven or more: p_large\n",
    "p_large = n_large/10000\n",
    "\n",
    "# Print the result\n",
    "print('Probability of seven or more no-hitters:', p_large)"
   ]
  }
 ],
 "metadata": {
  "kernelspec": {
   "display_name": "Python 3",
   "language": "python",
   "name": "python3"
  },
  "language_info": {
   "codemirror_mode": {
    "name": "ipython",
    "version": 3
   },
   "file_extension": ".py",
   "mimetype": "text/x-python",
   "name": "python",
   "nbconvert_exporter": "python",
   "pygments_lexer": "ipython3",
   "version": "3.7.2"
  }
 },
 "nbformat": 4,
 "nbformat_minor": 2
}
