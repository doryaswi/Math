{
 "cells": [
  {
   "cell_type": "markdown",
   "metadata": {},
   "source": [
    "# Lecture:\n",
    "\n",
    "**continuous quantieis**\n",
    "\n",
    "michelsons' speed of light:\n",
    "100 recording of speed of light\n",
    "some difference for each one\n",
    "are these distributed normaly?\n",
    "\n",
    "**PDF:**\n",
    "- continuous analog to PMF (Probablity Mass Function)\n",
    "- mathematical description of the relative likelihood of observering a value of a continuous variable.\n",
    "- area under the PDF gives probablity \n",
    "\n",
    "to find a prob: **CDF of normal distrinbution**\n",
    "\n",
    "\n",
    "normal distribution:    \n",
    ">a continuous variable whoe PDF has a single symmetric peak\n",
    "\n",
    "two parmeters:\n",
    "1. mean: cent\n",
    "1. std  "
   ]
  },
  {
   "cell_type": "markdown",
   "metadata": {},
   "source": [
    "sample code computing the thearecial cdf of a normal distrobution \n",
    "```python\n",
    "import numpy as np\n",
    "mean = np.mean(michelson_speed_of-light)\n",
    "std = np.std(michelson_speed_of_light)\n",
    "samples = np.random.normal(mean,std,size=10000)\n",
    "# cdf of data \n",
    "x,y = ecdf(michelson_speed_of_light)\n",
    "#cdf of proposed normal distrobution with mean and std = to observed data\n",
    "x_theor, y_theor = ecdf(samples)\n",
    "```"
   ]
  },
  {
   "cell_type": "markdown",
   "metadata": {},
   "source": [
    "*visualizing*\n",
    "```python\n",
    "import matpltolib.pyplot as plt\n",
    "import seaborn as sns\n",
    "sns.set()\n",
    "#put both on same plot to evaluate wether observed data is normaly distributed\n",
    "_= plt.plot(x_theor, y_theor)\n",
    "_= plt.plot(x,y,market ='.', linestyle = 'none'\n",
    "_ =plt.xlabel('speed of light (km/s)')\n",
    "_ = plt.ylabel('CDF')\n",
    "plt.show()\n",
    "```"
   ]
  },
  {
   "cell_type": "markdown",
   "metadata": {},
   "source": [
    "# exersize 1 \n",
    "**The Normal PDF**  \n",
    "In this exercise, you will explore the Normal PDF and also learn a way to plot a PDF of a known distribution using hacker statistics. Specifically, you will plot a Normal PDF for various values of the variance.\n",
    "- Draw 100,000 samples from a Normal distribution that has a mean of 20 and a standard deviation of 1. Do the same for Normal distributions with standard deviations of 3 and 10, each still with a mean of 20. Assign the results to samples_std1, samples_std3 and samples_std10, respectively.\n",
    "- Plot a histograms of each of the samples; for each, use 100 bins, also using the keyword arguments normed=True and histtype='step'. The latter keyword argument makes the plot look much like the smooth theoretical PDF. You will need to make 3 plt.hist() calls.\n",
    "- make a legend, showing which standard deviations you used, and show your plot! There is no need to label the axes because we have not defined what is being described by the Normal distribution; we are just looking at shapes of PDFs.\n"
   ]
  }
 ],
 "metadata": {
  "kernelspec": {
   "display_name": "Python 3",
   "language": "python",
   "name": "python3"
  },
  "language_info": {
   "codemirror_mode": {
    "name": "ipython",
    "version": 3
   },
   "file_extension": ".py",
   "mimetype": "text/x-python",
   "name": "python",
   "nbconvert_exporter": "python",
   "pygments_lexer": "ipython3",
   "version": "3.7.2"
  }
 },
 "nbformat": 4,
 "nbformat_minor": 2
}
